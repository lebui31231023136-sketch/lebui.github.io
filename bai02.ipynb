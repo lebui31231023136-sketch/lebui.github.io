{
  "nbformat": 4,
  "nbformat_minor": 0,
  "metadata": {
    "colab": {
      "provenance": [],
      "authorship_tag": "ABX9TyNHJC/k91NVpT0w4OyKDmtA",
      "include_colab_link": true
    },
    "kernelspec": {
      "name": "python3",
      "display_name": "Python 3"
    },
    "language_info": {
      "name": "python"
    }
  },
  "cells": [
    {
      "cell_type": "markdown",
      "metadata": {
        "id": "view-in-github",
        "colab_type": "text"
      },
      "source": [
        "<a href=\"https://colab.research.google.com/github/lebui31231023136-sketch/lebui.github.io/blob/main/bai02.ipynb\" target=\"_parent\"><img src=\"https://colab.research.google.com/assets/colab-badge.svg\" alt=\"Open In Colab\"/></a>"
      ]
    },
    {
      "cell_type": "code",
      "execution_count": 1,
      "metadata": {
        "colab": {
          "base_uri": "https://localhost:8080/"
        },
        "id": "73BOcnGgoCe0",
        "outputId": "5e0c74d0-7941-456d-d422-ef264f9a92cc"
      },
      "outputs": [
        {
          "output_type": "stream",
          "name": "stdout",
          "text": [
            "Hello World\n"
          ]
        }
      ],
      "source": [
        "print('Hello World')"
      ]
    },
    {
      "cell_type": "markdown",
      "source": [
        "## Python 101\n"
      ],
      "metadata": {
        "id": "n-VayEEOxOzZ"
      }
    },
    {
      "cell_type": "code",
      "source": [
        "score = 80\n",
        "if score >=60 :\n",
        "    print(\"pass\")"
      ],
      "metadata": {
        "colab": {
          "base_uri": "https://localhost:8080/"
        },
        "id": "0DBK5JmEtbA2",
        "outputId": "69f29479-27c9-4bcd-f4de-1ee8465fddd5"
      },
      "execution_count": 9,
      "outputs": [
        {
          "output_type": "stream",
          "name": "stdout",
          "text": [
            "pass\n"
          ]
        }
      ]
    },
    {
      "cell_type": "code",
      "source": [
        "#Future Value\n",
        "pv = 100\n",
        "r = 0.1\n",
        "n = 7\n",
        "fv = pv * ((1+(r)) ** n)\n",
        "print(round(fv, 2))\n"
      ],
      "metadata": {
        "colab": {
          "base_uri": "https://localhost:8080/"
        },
        "id": "G3fhrFKoo7wx",
        "outputId": "68897610-beb3-4404-fc59-53887b0dbd35"
      },
      "execution_count": 3,
      "outputs": [
        {
          "output_type": "stream",
          "name": "stdout",
          "text": [
            "194.87\n"
          ]
        }
      ]
    },
    {
      "cell_type": "code",
      "source": [
        "x = 2\n",
        "y = x + 1\n",
        "print(x,y)"
      ],
      "metadata": {
        "colab": {
          "base_uri": "https://localhost:8080/"
        },
        "id": "lxSEToJ3qAeI",
        "outputId": "ba57e02e-65bb-4c85-b87c-6157be1530b7"
      },
      "execution_count": 4,
      "outputs": [
        {
          "output_type": "stream",
          "name": "stdout",
          "text": [
            "2 3\n"
          ]
        }
      ]
    },
    {
      "cell_type": "code",
      "source": [
        "# comment\n",
        "from platform import python_version\n",
        "print(\"Python version:\", python_version())"
      ],
      "metadata": {
        "colab": {
          "base_uri": "https://localhost:8080/"
        },
        "id": "EBBGODF2qPS5",
        "outputId": "e538d507-88d6-495f-e444-6f480e22d24b"
      },
      "execution_count": 6,
      "outputs": [
        {
          "output_type": "stream",
          "name": "stdout",
          "text": [
            "Python version: 3.11.13\n"
          ]
        }
      ]
    },
    {
      "cell_type": "code",
      "source": [
        "# bmi\n",
        "# in put\n",
        "height_cm = 160\n",
        "weight_kg = 50\n",
        "\n",
        "# process\n",
        "height_m = height_cm / 100\n",
        "bmi = (weight_kg / height_m**2)\n",
        "\n",
        "print(\"Your bmi is: \" + str(round(bmi,1)))\n"
      ],
      "metadata": {
        "colab": {
          "base_uri": "https://localhost:8080/"
        },
        "id": "UG6_2vuRu43n",
        "outputId": "b467d722-3000-4373-deca-25ab5dab36a6"
      },
      "execution_count": 12,
      "outputs": [
        {
          "output_type": "stream",
          "name": "stdout",
          "text": [
            "Your bmi is: 19.5\n"
          ]
        }
      ]
    },
    {
      "cell_type": "code",
      "source": [
        "# Operator\n",
        "print('7 + 2=', 7 +2)\n",
        "print('7 - 2=', 7 - 2)\n",
        "print('7 * 2=', 7 * 2 )\n",
        "print('7 / 2=', 7 / 2)\n",
        "print('7 // 2=', 7 // 2)\n",
        "print('7 % 2=', 7 % 2)\n",
        "print('7 ** 2=', 7 ** 2)"
      ],
      "metadata": {
        "colab": {
          "base_uri": "https://localhost:8080/"
        },
        "id": "jl3UAYkbvyLP",
        "outputId": "043dff43-104a-4565-888c-669707eaf2cb"
      },
      "execution_count": 14,
      "outputs": [
        {
          "output_type": "stream",
          "name": "stdout",
          "text": [
            "7 + 2= 9\n",
            "7 - 2= 5\n",
            "7 * 2= 14\n",
            "7 / 2= 3.5\n",
            "7 // 2= 3\n",
            "7 % 2= 1\n",
            "7 ** 2= 49\n"
          ]
        }
      ]
    },
    {
      "cell_type": "code",
      "source": [
        "# Comparation\n",
        "print(3 > 2)\n",
        "print(3 == 2)\n",
        "print(3 < 2)"
      ],
      "metadata": {
        "colab": {
          "base_uri": "https://localhost:8080/"
        },
        "id": "Z4HNXUnsw7Qt",
        "outputId": "994a9f8c-8f3d-4e61-fa2d-92c3ee13648e"
      },
      "execution_count": 15,
      "outputs": [
        {
          "output_type": "stream",
          "name": "stdout",
          "text": [
            "True\n",
            "False\n",
            "False\n"
          ]
        }
      ]
    },
    {
      "cell_type": "code",
      "source": [
        "# Future Value\n",
        "pv = 100\n",
        "r = 0.1\n",
        "n = 7\n",
        "fv = pv * ((1 + (r)) ** n)\n",
        "print(round(fv, 2))"
      ],
      "metadata": {
        "colab": {
          "base_uri": "https://localhost:8080/"
        },
        "id": "TbD5rFKTyg73",
        "outputId": "37d3390e-8855-4d3d-9c10-8bf90aaf0113"
      },
      "execution_count": 17,
      "outputs": [
        {
          "output_type": "stream",
          "name": "stdout",
          "text": [
            "194.87\n"
          ]
        }
      ]
    },
    {
      "cell_type": "markdown",
      "source": [
        "## Cau truc du lieu\n"
      ],
      "metadata": {
        "id": "og0eQAHg0D44"
      }
    },
    {
      "cell_type": "code",
      "source": [
        "x = [\"apple\", \"banana\", \"cherry\"] #list\n",
        "print(x, type(x))\n",
        "x = (\"apple\", \"banana\", \"cherry\") #tuple\n",
        "print(x, type(x))\n",
        "x = {\"name\" : \"Tom\", \"age\" : 20} #dict\n",
        "print(x, type(x))\n",
        "x = {\"apple\", \"banana\", \"cherry\"} #set\n",
        "print(x, type(x))"
      ],
      "metadata": {
        "colab": {
          "base_uri": "https://localhost:8080/"
        },
        "id": "O_tcLpEEz4C7",
        "outputId": "b45018c2-2aaf-4ac3-d2a7-f621e13a8bb8"
      },
      "execution_count": 21,
      "outputs": [
        {
          "output_type": "stream",
          "name": "stdout",
          "text": [
            "['apple', 'banana', 'cherry'] <class 'list'>\n",
            "('apple', 'banana', 'cherry') <class 'tuple'>\n",
            "{'name': 'Tom', 'age': 20} <class 'dict'>\n",
            "{'banana', 'apple', 'cherry'} <class 'set'>\n"
          ]
        }
      ]
    },
    {
      "cell_type": "code",
      "source": [
        "# list\n",
        "x = [60, 70, 80, 90]\n",
        "print(len(x))\n",
        "print(x[0])\n",
        "print(x[1])\n",
        "print(x[-1])"
      ],
      "metadata": {
        "colab": {
          "base_uri": "https://localhost:8080/"
        },
        "id": "drMzXX4Gy8Wr",
        "outputId": "f22cfc01-5bdd-4f7f-e80a-6a7c1789e3d9"
      },
      "execution_count": 18,
      "outputs": [
        {
          "output_type": "stream",
          "name": "stdout",
          "text": [
            "4\n",
            "60\n",
            "70\n",
            "90\n"
          ]
        }
      ]
    },
    {
      "cell_type": "code",
      "source": [
        "animals = {'cat', 'dog'}\n",
        "print('cat' in animals)\n",
        "print('fish' in animals)\n",
        "animals.add('fish')\n",
        "print('fish' in animals)\n",
        "print(len(animals))\n",
        "animals.add('cat')\n",
        "print(len(animals))\n",
        "animals.remove('cat')\n",
        "print(len(animals))\n"
      ],
      "metadata": {
        "colab": {
          "base_uri": "https://localhost:8080/"
        },
        "id": "fRh3u9_UzJws",
        "outputId": "43f0114b-0283-49e7-ba00-8506fb67ae57"
      },
      "execution_count": 20,
      "outputs": [
        {
          "output_type": "stream",
          "name": "stdout",
          "text": [
            "True\n",
            "False\n",
            "True\n",
            "3\n",
            "3\n",
            "2\n"
          ]
        }
      ]
    },
    {
      "cell_type": "code",
      "source": [
        "k = { 'EN':'English'\n",
        ",\n",
        "'FR':'French' }\n",
        "print(k['EN'])"
      ],
      "metadata": {
        "colab": {
          "base_uri": "https://localhost:8080/"
        },
        "id": "xDPN32VV0QJl",
        "outputId": "2050bc37-0c34-48a6-9116-19899f2c605e"
      },
      "execution_count": 24,
      "outputs": [
        {
          "output_type": "stream",
          "name": "stdout",
          "text": [
            "English\n"
          ]
        }
      ]
    },
    {
      "cell_type": "code",
      "source": [
        "# data style\n",
        "fruits = [\"apple\", \"banana\", \"cherry\"] #lists []\n",
        "colors = (\"red\", \"green\", \"blue\") #tuples ()\n",
        "animals = {'cat', 'dog'} #sets {}\n",
        "person = {\"name\" : \"Tom\", \"age\" : 20} #dictionaries {}"
      ],
      "metadata": {
        "id": "imU5rHaq0XwH"
      },
      "execution_count": 27,
      "outputs": []
    },
    {
      "cell_type": "code",
      "source": [
        "# Python Lists\n",
        "expenses = [72.50, 80.75, 50.00, 90.25]\n",
        "total_expenses = sum(expenses)\n",
        "print(\"Total expenses:\", total_expenses)"
      ],
      "metadata": {
        "colab": {
          "base_uri": "https://localhost:8080/"
        },
        "id": "oyeNJ8tq0nFf",
        "outputId": "2e3b0ece-210c-497a-f0d1-67c8d6be2221"
      },
      "execution_count": 28,
      "outputs": [
        {
          "output_type": "stream",
          "name": "stdout",
          "text": [
            "Total expenses: 293.5\n"
          ]
        }
      ]
    },
    {
      "cell_type": "code",
      "source": [
        "# tuples\n",
        "accounts = ((\"Cash, 1001\"), (\"Accounts Receivable\", 1002), (\"Inventory\", 1003))\n",
        "for account in accounts:\n",
        "     print(\"Account name:\", account[0], \"Account number:\", account[1])"
      ],
      "metadata": {
        "colab": {
          "base_uri": "https://localhost:8080/"
        },
        "id": "3L4N-9Ht0sM_",
        "outputId": "d8484187-6f4d-405e-e91a-2871d1fd56a1"
      },
      "execution_count": 30,
      "outputs": [
        {
          "output_type": "stream",
          "name": "stdout",
          "text": [
            "Account name: C Account number: a\n",
            "Account name: Accounts Receivable Account number: 1002\n",
            "Account name: Inventory Account number: 1003\n"
          ]
        }
      ]
    },
    {
      "cell_type": "code",
      "source": [
        "# if\n",
        "score = 90\n",
        "grade = \"\"\n",
        "if score >=90:\n",
        "    grade = \"A\"\n",
        "elif score >= 80:\n",
        "    grade = \"B\"\n",
        "elif score >= 70:\n",
        "    grade = \"C\"\n",
        "elif score >= 60:\n",
        "    grade = \"D\"\n",
        "else:\n",
        "    grade = \"E\"\n",
        "print(grade)"
      ],
      "metadata": {
        "colab": {
          "base_uri": "https://localhost:8080/"
        },
        "id": "kc2VKol35hSm",
        "outputId": "fedb04e0-17e0-416e-ea6d-9a22b065ca63"
      },
      "execution_count": 47,
      "outputs": [
        {
          "output_type": "stream",
          "name": "stdout",
          "text": [
            "A\n"
          ]
        }
      ]
    },
    {
      "cell_type": "code",
      "source": [
        "# loop\n",
        "for i in range(1, 6): #1<=i,6\n",
        "    print(i, end= \" \" )"
      ],
      "metadata": {
        "colab": {
          "base_uri": "https://localhost:8080/"
        },
        "id": "T39XUFXb6R80",
        "outputId": "cfb66bfd-1ef8-4225-ce0a-917e9be8d743"
      },
      "execution_count": 50,
      "outputs": [
        {
          "output_type": "stream",
          "name": "stdout",
          "text": [
            "1 2 3 4 5 "
          ]
        }
      ]
    },
    {
      "cell_type": "code",
      "source": [
        "# 2 loop\n",
        "for i in range(1,10): # i: 1->9\n",
        "    for j in range(1, 10):\n",
        "      print(f'{1} * {j} = {i + j}')\n",
        "      print('-'*50)\n",
        "\n",
        ""
      ],
      "metadata": {
        "colab": {
          "base_uri": "https://localhost:8080/"
        },
        "id": "lvMtat_H65Ph",
        "outputId": "d74b90fb-953c-4d0f-c622-c94ec1fafc50"
      },
      "execution_count": 76,
      "outputs": [
        {
          "output_type": "stream",
          "name": "stdout",
          "text": [
            "1 * 1 = 2\n",
            "--------------------------------------------------\n",
            "1 * 2 = 3\n",
            "--------------------------------------------------\n",
            "1 * 3 = 4\n",
            "--------------------------------------------------\n",
            "1 * 4 = 5\n",
            "--------------------------------------------------\n",
            "1 * 5 = 6\n",
            "--------------------------------------------------\n",
            "1 * 6 = 7\n",
            "--------------------------------------------------\n",
            "1 * 7 = 8\n",
            "--------------------------------------------------\n",
            "1 * 8 = 9\n",
            "--------------------------------------------------\n",
            "1 * 9 = 10\n",
            "--------------------------------------------------\n",
            "1 * 1 = 3\n",
            "--------------------------------------------------\n",
            "1 * 2 = 4\n",
            "--------------------------------------------------\n",
            "1 * 3 = 5\n",
            "--------------------------------------------------\n",
            "1 * 4 = 6\n",
            "--------------------------------------------------\n",
            "1 * 5 = 7\n",
            "--------------------------------------------------\n",
            "1 * 6 = 8\n",
            "--------------------------------------------------\n",
            "1 * 7 = 9\n",
            "--------------------------------------------------\n",
            "1 * 8 = 10\n",
            "--------------------------------------------------\n",
            "1 * 9 = 11\n",
            "--------------------------------------------------\n",
            "1 * 1 = 4\n",
            "--------------------------------------------------\n",
            "1 * 2 = 5\n",
            "--------------------------------------------------\n",
            "1 * 3 = 6\n",
            "--------------------------------------------------\n",
            "1 * 4 = 7\n",
            "--------------------------------------------------\n",
            "1 * 5 = 8\n",
            "--------------------------------------------------\n",
            "1 * 6 = 9\n",
            "--------------------------------------------------\n",
            "1 * 7 = 10\n",
            "--------------------------------------------------\n",
            "1 * 8 = 11\n",
            "--------------------------------------------------\n",
            "1 * 9 = 12\n",
            "--------------------------------------------------\n",
            "1 * 1 = 5\n",
            "--------------------------------------------------\n",
            "1 * 2 = 6\n",
            "--------------------------------------------------\n",
            "1 * 3 = 7\n",
            "--------------------------------------------------\n",
            "1 * 4 = 8\n",
            "--------------------------------------------------\n",
            "1 * 5 = 9\n",
            "--------------------------------------------------\n",
            "1 * 6 = 10\n",
            "--------------------------------------------------\n",
            "1 * 7 = 11\n",
            "--------------------------------------------------\n",
            "1 * 8 = 12\n",
            "--------------------------------------------------\n",
            "1 * 9 = 13\n",
            "--------------------------------------------------\n",
            "1 * 1 = 6\n",
            "--------------------------------------------------\n",
            "1 * 2 = 7\n",
            "--------------------------------------------------\n",
            "1 * 3 = 8\n",
            "--------------------------------------------------\n",
            "1 * 4 = 9\n",
            "--------------------------------------------------\n",
            "1 * 5 = 10\n",
            "--------------------------------------------------\n",
            "1 * 6 = 11\n",
            "--------------------------------------------------\n",
            "1 * 7 = 12\n",
            "--------------------------------------------------\n",
            "1 * 8 = 13\n",
            "--------------------------------------------------\n",
            "1 * 9 = 14\n",
            "--------------------------------------------------\n",
            "1 * 1 = 7\n",
            "--------------------------------------------------\n",
            "1 * 2 = 8\n",
            "--------------------------------------------------\n",
            "1 * 3 = 9\n",
            "--------------------------------------------------\n",
            "1 * 4 = 10\n",
            "--------------------------------------------------\n",
            "1 * 5 = 11\n",
            "--------------------------------------------------\n",
            "1 * 6 = 12\n",
            "--------------------------------------------------\n",
            "1 * 7 = 13\n",
            "--------------------------------------------------\n",
            "1 * 8 = 14\n",
            "--------------------------------------------------\n",
            "1 * 9 = 15\n",
            "--------------------------------------------------\n",
            "1 * 1 = 8\n",
            "--------------------------------------------------\n",
            "1 * 2 = 9\n",
            "--------------------------------------------------\n",
            "1 * 3 = 10\n",
            "--------------------------------------------------\n",
            "1 * 4 = 11\n",
            "--------------------------------------------------\n",
            "1 * 5 = 12\n",
            "--------------------------------------------------\n",
            "1 * 6 = 13\n",
            "--------------------------------------------------\n",
            "1 * 7 = 14\n",
            "--------------------------------------------------\n",
            "1 * 8 = 15\n",
            "--------------------------------------------------\n",
            "1 * 9 = 16\n",
            "--------------------------------------------------\n",
            "1 * 1 = 9\n",
            "--------------------------------------------------\n",
            "1 * 2 = 10\n",
            "--------------------------------------------------\n",
            "1 * 3 = 11\n",
            "--------------------------------------------------\n",
            "1 * 4 = 12\n",
            "--------------------------------------------------\n",
            "1 * 5 = 13\n",
            "--------------------------------------------------\n",
            "1 * 6 = 14\n",
            "--------------------------------------------------\n",
            "1 * 7 = 15\n",
            "--------------------------------------------------\n",
            "1 * 8 = 16\n",
            "--------------------------------------------------\n",
            "1 * 9 = 17\n",
            "--------------------------------------------------\n",
            "1 * 1 = 10\n",
            "--------------------------------------------------\n",
            "1 * 2 = 11\n",
            "--------------------------------------------------\n",
            "1 * 3 = 12\n",
            "--------------------------------------------------\n",
            "1 * 4 = 13\n",
            "--------------------------------------------------\n",
            "1 * 5 = 14\n",
            "--------------------------------------------------\n",
            "1 * 6 = 15\n",
            "--------------------------------------------------\n",
            "1 * 7 = 16\n",
            "--------------------------------------------------\n",
            "1 * 8 = 17\n",
            "--------------------------------------------------\n",
            "1 * 9 = 18\n",
            "--------------------------------------------------\n"
          ]
        }
      ]
    },
    {
      "cell_type": "code",
      "source": [
        "# while loops\n",
        "age = 10\n",
        "while age < 20:\n",
        "    print(age)\n",
        "    age = age + 1"
      ],
      "metadata": {
        "colab": {
          "base_uri": "https://localhost:8080/"
        },
        "id": "k_dCKQZpDqwi",
        "outputId": "e91337e1-882b-4e05-af7d-874b3dd85e03"
      },
      "execution_count": 54,
      "outputs": [
        {
          "output_type": "stream",
          "name": "stdout",
          "text": [
            "10\n",
            "11\n",
            "12\n",
            "13\n",
            "14\n",
            "15\n",
            "16\n",
            "17\n",
            "18\n",
            "19\n"
          ]
        }
      ]
    },
    {
      "cell_type": "code",
      "source": [
        "# Class\n",
        "class Person:\n",
        "  def __init__(self, name, age):\n",
        "    self.name = name\n",
        "    self.age = age\n",
        "\n",
        "p1 = Person(\"Alan\", 20)\n",
        "print(p1.name, p1.age)"
      ],
      "metadata": {
        "colab": {
          "base_uri": "https://localhost:8080/"
        },
        "id": "YQaYOPrRD9Sn",
        "outputId": "efd4c0b0-0f2e-4041-f176-f46a2abd83cf"
      },
      "execution_count": 57,
      "outputs": [
        {
          "output_type": "stream",
          "name": "stdout",
          "text": [
            "Alan 20\n"
          ]
        }
      ]
    },
    {
      "cell_type": "code",
      "source": [
        "class Person:\n",
        "  def __init__(self, name, age):\n",
        "    self.name = name\n",
        "    self.age = age\n",
        "\n",
        "  def myfunc(self):\n",
        "    print(\"Hello my name is \" + self.name)\n",
        "\n",
        "p1 = Person(\"Alan\", 20)\n",
        "p1.myfunc()\n",
        "print(p1.name)\n",
        "print(p1.age)"
      ],
      "metadata": {
        "colab": {
          "base_uri": "https://localhost:8080/"
        },
        "id": "TtnLhq8RGCAF",
        "outputId": "87769f56-822a-409b-928c-f6c7c0d7c1a3"
      },
      "execution_count": 80,
      "outputs": [
        {
          "output_type": "stream",
          "name": "stdout",
          "text": [
            "Hello my name is Alan\n",
            "Alan\n",
            "20\n"
          ]
        }
      ]
    },
    {
      "cell_type": "code",
      "source": [
        "class Vehicle:\n",
        "  name = \"\"\n",
        "  kind = \"car\"\n",
        "  color = \"\"\n",
        "  value = 100.00\n",
        "\n",
        "  def __init__(self, name=\"\", kind=\"car\", color=\"\", value=100.0):\n",
        "    self.name = name\n",
        "    self.kind = kind\n",
        "    self.color = color\n",
        "    self.value = value\n",
        "    pass\n",
        "\n",
        "  def description(self):\n",
        "    desc_str = f'{self.name} is a {self.color} {self.kind} worth ${self.value:.2f}.'\n",
        "    return desc_str\n",
        "    pass\n",
        "\n",
        "car1 = Vehicle()\n",
        "car1.name = \"Fer\"\n",
        "car1.color = \"red\"\n",
        "car1.kind = \"convertible\"\n",
        "car1.value = 60000.00\n",
        "\n",
        "car2 = Vehicle(\"Jump\", 'blue', 'van', 10000.0)\n",
        "\n",
        "print(car1.description())\n",
        "print(car1.name)\n",
        "print(car2.description())\n",
        "print(car2.name)\n"
      ],
      "metadata": {
        "colab": {
          "base_uri": "https://localhost:8080/"
        },
        "id": "PZReddHUKLqw",
        "outputId": "17d755c9-a01c-4cb7-fc58-0b843a2648e6"
      },
      "execution_count": 81,
      "outputs": [
        {
          "output_type": "stream",
          "name": "stdout",
          "text": [
            "Fer is a red convertible worth $60000.00.\n",
            "Fer\n",
            "Jump is a van blue worth $10000.00.\n",
            "Jump\n"
          ]
        }
      ]
    },
    {
      "cell_type": "code",
      "source": [
        "%%writefile mymodule.py\n",
        "def greeting(name):\n",
        "  print(\"Hello, \" + name)"
      ],
      "metadata": {
        "colab": {
          "base_uri": "https://localhost:8080/"
        },
        "id": "EBSMrvDgGoRD",
        "outputId": "6d9f0262-f034-4f68-a99e-69f883204dcd"
      },
      "execution_count": 73,
      "outputs": [
        {
          "output_type": "stream",
          "name": "stdout",
          "text": [
            "Overwriting mymodule.py\n"
          ]
        }
      ]
    },
    {
      "cell_type": "code",
      "source": [
        "import mymodule\n",
        "mymodule.greeting(\"Alan\")"
      ],
      "metadata": {
        "colab": {
          "base_uri": "https://localhost:8080/"
        },
        "id": "RmImT5A3HHqs",
        "outputId": "9a6f937e-ee24-442a-b90f-dc2352aa517f"
      },
      "execution_count": 69,
      "outputs": [
        {
          "output_type": "stream",
          "name": "stdout",
          "text": [
            "Hello, Alan\n"
          ]
        }
      ]
    },
    {
      "cell_type": "code",
      "source": [
        "filename = 'mymodule.py'\n",
        "with open(filename, 'w') as file:\n",
        "  text = '''def greeting(name):\n",
        "  print(\"Hello, \" + name)\n",
        "  print(\"Xin chao, \" + name)\n",
        "  '''\n",
        "  file.write(text)\n",
        "\n",
        "with open(filename, 'r') as file:\n",
        "  text = file.read()\n",
        "print(filename)\n",
        "print(text)"
      ],
      "metadata": {
        "colab": {
          "base_uri": "https://localhost:8080/"
        },
        "id": "ViaQv9vgOmXM",
        "outputId": "519daeb7-282c-4bed-91a8-6d70f3a9381e"
      },
      "execution_count": 86,
      "outputs": [
        {
          "output_type": "stream",
          "name": "stdout",
          "text": [
            "mymodule.py\n",
            "def greeting(name):\n",
            "  print(\"Hello, \" + name)\n",
            "  print(\"Xin chao, \" + name)\n",
            "  \n"
          ]
        }
      ]
    },
    {
      "cell_type": "code",
      "source": [
        "import mymodule\n",
        "mymodule.greeting(\"Alan\")"
      ],
      "metadata": {
        "colab": {
          "base_uri": "https://localhost:8080/"
        },
        "id": "7lcbKSIhPx3L",
        "outputId": "c9252ba4-9290-4097-abe0-60459c25f30c"
      },
      "execution_count": 91,
      "outputs": [
        {
          "output_type": "stream",
          "name": "stdout",
          "text": [
            "Hello, Alan\n",
            "Xin chao, Alan\n"
          ]
        }
      ]
    },
    {
      "cell_type": "markdown",
      "source": [
        "##Ket thuc\n"
      ],
      "metadata": {
        "id": "GaDDsJ3ORSIv"
      }
    },
    {
      "cell_type": "markdown",
      "source": [],
      "metadata": {
        "id": "dtbJ-7-xQh7r"
      }
    }
  ]
}