{
  "nbformat": 4,
  "nbformat_minor": 0,
  "metadata": {
    "colab": {
      "provenance": [],
      "toc_visible": true,
      "authorship_tag": "ABX9TyOlr+k2xoc+Lzg1xGndu4Fc",
      "include_colab_link": true
    },
    "kernelspec": {
      "name": "python3",
      "display_name": "Python 3"
    },
    "language_info": {
      "name": "python"
    }
  },
  "cells": [
    {
      "cell_type": "markdown",
      "metadata": {
        "id": "view-in-github",
        "colab_type": "text"
      },
      "source": [
        "<a href=\"https://colab.research.google.com/github/lebui31231023136-sketch/lebui.github.io/blob/main/BTThuchanh1_160825.ipynb\" target=\"_parent\"><img src=\"https://colab.research.google.com/assets/colab-badge.svg\" alt=\"Open In Colab\"/></a>"
      ]
    },
    {
      "cell_type": "markdown",
      "source": [
        "# BÀI TẬP MẪU"
      ],
      "metadata": {
        "id": "pa_PukliXTwz"
      }
    },
    {
      "cell_type": "markdown",
      "source": [
        "##Bài 1. In chuỗi"
      ],
      "metadata": {
        "id": "wmUA_uunXc-7"
      }
    },
    {
      "cell_type": "code",
      "source": [
        "print(\"Whoever is happy will make others too\");\n",
        "print(\"--Anne Frank\");"
      ],
      "metadata": {
        "colab": {
          "base_uri": "https://localhost:8080/"
        },
        "id": "EwOKXCBJXo2w",
        "outputId": "233bf5c8-a9b1-4111-b1cb-eeb4bb979707"
      },
      "execution_count": 1,
      "outputs": [
        {
          "output_type": "stream",
          "name": "stdout",
          "text": [
            "Whoever is happy will make others too\n",
            "--Anne Frank\n"
          ]
        }
      ]
    },
    {
      "cell_type": "markdown",
      "source": [
        "##Bài 2. Biểu thức tính toán\n"
      ],
      "metadata": {
        "id": "4i3Se-V2X9Zm"
      }
    },
    {
      "cell_type": "code",
      "source": [
        "# Nhập dữ liệu\n",
        "a = int(input(\"Moi ban nhap so a: \"))\n",
        "b = int(input(\"Moi ban nhap so b: \"))\n",
        "# Xử lý\n",
        "kqCong = a + b\n",
        "kqTru = a - b\n",
        "kqNhan = a * b\n",
        "kqChiaNguyen = a // b\n",
        "kqDu= a % b\n",
        "kqChiaThuc = a / b\n",
        "# Xuất dữ liệu\n",
        "print(\"Cac ket qua tinh toan: \")\n",
        "print(\"%-5d + %5d = %5d\"%(a, b, kqCong))\n",
        "print(\"%-5d - %5d = %5d\"%(a, b, kqTru))\n",
        "print(\"%-5d * %5d = %5d\"%(a, b, kqNhan))\n",
        "print(\"%-5d / %5d = %5d\"%(a, b, kqChiaNguyen))\n",
        "print(\"%-5d / %5d = %5d\"%(a, b, kqDu))\n",
        "print(\"%-5d / %5d = %5.2f\"%(a, b, kqChiaThuc))"
      ],
      "metadata": {
        "colab": {
          "base_uri": "https://localhost:8080/"
        },
        "id": "TZvsm8EwYYHH",
        "outputId": "89d4ead6-c364-44f6-8e72-e2a805a04cd9"
      },
      "execution_count": 2,
      "outputs": [
        {
          "output_type": "stream",
          "name": "stdout",
          "text": [
            "Moi ban nhap so a: 5\n",
            "Moi ban nhap so b: 6\n",
            "Cac ket qua tinh toan: \n",
            "5     +     6 =    11\n",
            "5     -     6 =    -1\n",
            "5     *     6 =    30\n",
            "5     /     6 =     0\n",
            "5     /     6 =     5\n",
            "5     /     6 =  0.83\n"
          ]
        }
      ]
    },
    {
      "cell_type": "markdown",
      "source": [
        "##Bài 3. Biểu thức so sánh"
      ],
      "metadata": {
        "id": "vLzR5FRUYiuv"
      }
    },
    {
      "cell_type": "code",
      "source": [
        "# Nhập dữ liệu\n",
        "a = float(input(\"Moi ban nhap so a: \"))\n",
        "b = float(input(\"Moi ban nhap so b: \"))\n",
        "# Xử lý\n",
        "laNhoHon = (a < b)\n",
        "laNhoHonBang = (a <= b)\n",
        "laLonHon = (a > b)\n",
        "laLonHonBang = (a >= b)\n",
        "laBang = (a == b)\n",
        "laKhacNhau = (a != b)\n",
        "# Xuất dữ liệu\n",
        "print(\"Ket qua so sanh hai so thuc %.2f va %.2f:\"%(a, b))\n",
        "print(\"%-8.2f < %8.2f: %8s\"%(a, b, laNhoHon))\n",
        "print(\"%-8.2f <= %8.2f: %8s\"%(a, b, laNhoHonBang))\n",
        "print(\"%-8.2f > %8.2f: %8s\"%(a, b, laLonHon))\n",
        "print(\"%-8.2f >= %8.2f: %8s\"%(a, b, laLonHonBang))\n",
        "print(\"%-8.2f == %8.2f: %8s\"%(a, b, laBang))\n",
        "print(\"%-8.2f != %8.2f: %8s\"%(a, b, laKhacNhau))"
      ],
      "metadata": {
        "colab": {
          "base_uri": "https://localhost:8080/"
        },
        "id": "O16x0OJgYmM3",
        "outputId": "a87e5324-f344-43e7-9eb8-4b056a71adea"
      },
      "execution_count": 3,
      "outputs": [
        {
          "output_type": "stream",
          "name": "stdout",
          "text": [
            "Moi ban nhap so a: 2.5\n",
            "Moi ban nhap so b: 6.8\n",
            "Ket qua so sanh hai so thuc 2.50 va 6.80:\n",
            "2.50     <     6.80:     True\n",
            "2.50     <=     6.80:     True\n",
            "2.50     >     6.80:    False\n",
            "2.50     >=     6.80:    False\n",
            "2.50     ==     6.80:    False\n",
            "2.50     !=     6.80:     True\n"
          ]
        }
      ]
    },
    {
      "cell_type": "markdown",
      "source": [
        "##Bài 4. Tính giá trị hàm số"
      ],
      "metadata": {
        "id": "BpsOafSSYxXP"
      }
    },
    {
      "cell_type": "code",
      "source": [
        "# Nạp thư viện\n",
        "import math\n",
        "# Nhập dữ liệu\n",
        "x = float(input(\"Moi ban nhap vao gia tri cua bien so x: \"))\n",
        "# Xử lý\n",
        "fx = x + math.pow(x, 5) / (1 * 2 * 3 * 4 * 5) + \\\n",
        "math.sqrt(abs(x)) / math.pow(x, 3.0 / 2)\n",
        "# Xuất dữ liệu\n",
        "print(\"Gia tri cua ham so f(%.2f) = %.2f.\"%(x, fx))"
      ],
      "metadata": {
        "colab": {
          "base_uri": "https://localhost:8080/"
        },
        "id": "ztqcb7bLY0_X",
        "outputId": "cb3096e8-1d7d-4221-fec5-b1925ff8fe09"
      },
      "execution_count": 4,
      "outputs": [
        {
          "output_type": "stream",
          "name": "stdout",
          "text": [
            "Moi ban nhap vao gia tri cua bien so x: 2.3\n",
            "Gia tri cua ham so f(2.30) = 3.27.\n"
          ]
        }
      ]
    },
    {
      "cell_type": "markdown",
      "source": [
        "##Bài 5. Tổng chữ số"
      ],
      "metadata": {
        "id": "bJNlgYiaZTpm"
      }
    },
    {
      "cell_type": "code",
      "source": [
        "# Chương trình tính tổng các chữ số của số nguyên n có 4 chữ số\n",
        "\n",
        "# Nhập vào số nguyên n\n",
        "n = int(input(\"Mời bạn nhập số nguyên n (có bốn chữ số): \"))\n",
        "\n",
        "# Tách từng chữ số\n",
        "a = n // 1000              # chữ số hàng nghìn\n",
        "b = (n // 100) % 10        # chữ số hàng trăm\n",
        "c = (n // 10) % 10         # chữ số hàng chục\n",
        "d = n % 10                 # chữ số hàng đơn vị\n",
        "\n",
        "# Tính tổng\n",
        "tong = a + b + c + d\n",
        "\n",
        "# In kết quả\n",
        "print(f\"{n} = {a} + {b} + {c} + {d} = {tong}\")\n"
      ],
      "metadata": {
        "colab": {
          "base_uri": "https://localhost:8080/"
        },
        "id": "E31i3jSrZlm3",
        "outputId": "e0339216-fd34-48ac-c60b-5d8de3594541"
      },
      "execution_count": 7,
      "outputs": [
        {
          "output_type": "stream",
          "name": "stdout",
          "text": [
            "Mời bạn nhập số nguyên n (có bốn chữ số): 1234\n",
            "1234 = 1 + 2 + 3 + 4 = 10\n"
          ]
        }
      ]
    },
    {
      "cell_type": "markdown",
      "source": [
        "# BÀI TẬP THỰC HÀNH"
      ],
      "metadata": {
        "id": "ZAR0uZnOaps2"
      }
    },
    {
      "cell_type": "markdown",
      "source": [
        "## Bài 1. In nhãn"
      ],
      "metadata": {
        "id": "7rlaxuIDaunF"
      }
    },
    {
      "cell_type": "code",
      "source": [
        "print(\"*******************************\")\n",
        "print(\"* Truong: Dai Hoc UEH          *\")\n",
        "print(\"* Khoa: CNTT                   *\")\n",
        "print(\"* Ho ten:                      *\")\n",
        "print(\"*******************************\")"
      ],
      "metadata": {
        "colab": {
          "base_uri": "https://localhost:8080/"
        },
        "id": "OrCeEdX-bFXp",
        "outputId": "80abb06c-1845-4f61-82b5-634da5342422"
      },
      "execution_count": 8,
      "outputs": [
        {
          "output_type": "stream",
          "name": "stdout",
          "text": [
            "*******************************\n",
            "* Truong: Dai Hoc UEH          *\n",
            "* Khoa: CNTT                   *\n",
            "* Ho ten:                      *\n",
            "*******************************\n"
          ]
        }
      ]
    },
    {
      "cell_type": "markdown",
      "source": [
        "##Bài 2. Tính diện tích và chu vi hình tròn"
      ],
      "metadata": {
        "id": "g_EswBJDbLF5"
      }
    },
    {
      "cell_type": "code",
      "source": [
        "R = float(input(\"Nhap ban kinh R: \"))\n",
        "S = 3.14 * R * R\n",
        "P = 2 * 3.14 * R\n",
        "print(f\"Dien tich S = {S:.1f}\")\n",
        "print(f\"Chu vi P = {P:.1f}\")"
      ],
      "metadata": {
        "colab": {
          "base_uri": "https://localhost:8080/"
        },
        "id": "4FGuFboEbZho",
        "outputId": "80b27111-783b-408f-b53c-1167df1120e7"
      },
      "execution_count": 9,
      "outputs": [
        {
          "output_type": "stream",
          "name": "stdout",
          "text": [
            "Nhap ban kinh R: 5\n",
            "Dien tich S = 78.5\n",
            "Chu vi P = 31.4\n"
          ]
        }
      ]
    },
    {
      "cell_type": "markdown",
      "source": [
        "##Bài 3. Đổi sang giây"
      ],
      "metadata": {
        "id": "FQBxorM6bgmt"
      }
    },
    {
      "cell_type": "code",
      "source": [
        "h = int(input(\"Nhap so gio: \"))\n",
        "m = int(input(\"Nhap so phut: \"))\n",
        "s = int(input(\"Nhap so giay: \"))\n",
        "\n",
        "tong = h*3600 + m*60 + s\n",
        "print(f\"Tong so giay cua {h}:{m}:{s} la {tong} giay\")"
      ],
      "metadata": {
        "colab": {
          "base_uri": "https://localhost:8080/"
        },
        "id": "WvueDKp-bjbf",
        "outputId": "1cab2ca3-fee2-4f3b-ff95-c2f1b481e119"
      },
      "execution_count": 10,
      "outputs": [
        {
          "output_type": "stream",
          "name": "stdout",
          "text": [
            "Nhap so gio: 1\n",
            "Nhap so phut: 20\n",
            "Nhap so giay: 10\n",
            "Tong so giay cua 1:20:10 la 4810 giay\n"
          ]
        }
      ]
    },
    {
      "cell_type": "markdown",
      "source": [
        "##Bài 4. Đổi sang giờ phút giây"
      ],
      "metadata": {
        "id": "yBJ3U_xPbsPP"
      }
    },
    {
      "cell_type": "code",
      "source": [
        "tong = int(input(\"Nhap vao tong so giay: \"))\n",
        "\n",
        "h = tong // 3600\n",
        "m = (tong % 3600) // 60\n",
        "s = tong % 60\n",
        "\n",
        "print(f\"{tong} giay co dang {h}:{m}:{s}\")"
      ],
      "metadata": {
        "colab": {
          "base_uri": "https://localhost:8080/"
        },
        "id": "rHPSPjoxbzeZ",
        "outputId": "7b63ddfc-d9cb-425d-c799-c70c437a5a04"
      },
      "execution_count": 11,
      "outputs": [
        {
          "output_type": "stream",
          "name": "stdout",
          "text": [
            "Nhap vao tong so giay: 4810\n",
            "4810 giay co dang 1:20:10\n"
          ]
        }
      ]
    },
    {
      "cell_type": "markdown",
      "source": [
        "##Bài 5. Tính diện tích tam giác"
      ],
      "metadata": {
        "id": "v5wG9-jUb_Ho"
      }
    },
    {
      "cell_type": "code",
      "source": [
        "import math\n",
        "a = float(input(\"Nhap do dai canh a: \"))\n",
        "b = float(input(\"Nhap do dai canh b: \"))\n",
        "c = float(input(\"Nhap do dai canh c: \"))\n",
        "p = (a + b + c) / 2\n",
        "S = math.sqrt(p * (p - a) * (p - b) * (p - c))\n",
        "\n",
        "print(f\"Dien tich tam giac S = {S:.2f}\")"
      ],
      "metadata": {
        "colab": {
          "base_uri": "https://localhost:8080/"
        },
        "id": "CVoPvAs_cIdz",
        "outputId": "9a1a09c7-7450-48b0-9363-3d2013f8bea1"
      },
      "execution_count": 12,
      "outputs": [
        {
          "output_type": "stream",
          "name": "stdout",
          "text": [
            "Nhap do dai canh a: 2\n",
            "Nhap do dai canh b: 4\n",
            "Nhap do dai canh c: 3\n",
            "Dien tich tam giac S = 2.90\n"
          ]
        }
      ]
    },
    {
      "cell_type": "markdown",
      "source": [
        "##Bài 6. Hàm mũ"
      ],
      "metadata": {
        "id": "U5OLyjkPcZjS"
      }
    },
    {
      "cell_type": "code",
      "source": [
        "a = float(input(\"Nhap so thuc a: \"))\n",
        "n = int(input(\"Nhap so mu n: \"))\n",
        "\n",
        "kq = a ** n\n",
        "print(f\"Ket qua {a}^{n} = {kq}\")"
      ],
      "metadata": {
        "colab": {
          "base_uri": "https://localhost:8080/"
        },
        "id": "qm4_LJlHcc4h",
        "outputId": "e22090f4-8898-4ce3-cb5a-ed4c3b8922c7"
      },
      "execution_count": 13,
      "outputs": [
        {
          "output_type": "stream",
          "name": "stdout",
          "text": [
            "Nhap so thuc a: 2\n",
            "Nhap so mu n: 4\n",
            "Ket qua 2.0^4 = 16.0\n"
          ]
        }
      ]
    },
    {
      "cell_type": "markdown",
      "source": [
        "##Bài 7. Đảo số"
      ],
      "metadata": {
        "id": "hQdbEkqyclFz"
      }
    },
    {
      "cell_type": "code",
      "source": [
        "x = int(input(\"Nhap so nguyen x (4 chu so): \"))\n",
        "y = int(str(x)[::-1])   # Đảo ngược chuỗi rồi ép sang số\n",
        "print(f\"So dao nguoc cua {x} la {y}\")"
      ],
      "metadata": {
        "colab": {
          "base_uri": "https://localhost:8080/"
        },
        "id": "TIs75mSVcprm",
        "outputId": "03022d6e-c328-456f-f609-227bb570bda1"
      },
      "execution_count": 14,
      "outputs": [
        {
          "output_type": "stream",
          "name": "stdout",
          "text": [
            "Nhap so nguyen x (4 chu so): 1910\n",
            "So dao nguoc cua 1910 la 191\n"
          ]
        }
      ]
    },
    {
      "cell_type": "markdown",
      "source": [
        "##Bài 8. Độ sang Radian"
      ],
      "metadata": {
        "id": "Nmn_qbpAc6DR"
      }
    },
    {
      "cell_type": "code",
      "source": [
        "import math\n",
        "do = float(input(\"Nhap goc (do): \"))\n",
        "radian = math.radians(do)   # chuyển độ → radian\n",
        "print(f\"{do} do = {radian:.4f} radian\")"
      ],
      "metadata": {
        "colab": {
          "base_uri": "https://localhost:8080/"
        },
        "id": "ctUIz0guc_TO",
        "outputId": "43762c09-2d7c-46fe-a56e-23c4c6da72dd"
      },
      "execution_count": 15,
      "outputs": [
        {
          "output_type": "stream",
          "name": "stdout",
          "text": [
            "Nhap goc (do): 90\n",
            "90.0 do = 1.5708 radian\n"
          ]
        }
      ]
    },
    {
      "cell_type": "markdown",
      "source": [
        "##Bài 9. Hàm số 1"
      ],
      "metadata": {
        "id": "6nQU0LZmdJfO"
      }
    },
    {
      "cell_type": "code",
      "source": [
        "import math\n",
        "\n",
        "x = float(input(\"Nhap vao so thuc x: \"))\n",
        "y1 = 4 * (x**2 + 10 * math.sqrt(x) + 3*x + 1)\n",
        "y2 = (math.sin(x**2) + math.sqrt(x**2 + 1)) / (math.exp(x) + math.cos(math.pi * x / 4))\n",
        "\n",
        "print(f\"y1 = {y1:.2f}\")\n",
        "print(f\"y2 = {y2:.2f}\")"
      ],
      "metadata": {
        "colab": {
          "base_uri": "https://localhost:8080/"
        },
        "id": "MstOBJYKdNOO",
        "outputId": "7c49f926-47fd-4011-b182-84eee45dd13a"
      },
      "execution_count": 16,
      "outputs": [
        {
          "output_type": "stream",
          "name": "stdout",
          "text": [
            "Nhap vao so thuc x: 10\n",
            "y1 = 650.49\n",
            "y2 = 0.00\n"
          ]
        }
      ]
    },
    {
      "cell_type": "markdown",
      "source": [
        "##Bài 10. Khoảng cách giữa 2 điểm"
      ],
      "metadata": {
        "id": "iYjXzoyjdXAH"
      }
    },
    {
      "cell_type": "code",
      "source": [
        "import math\n",
        "\n",
        "x1, y1 = map(float, input(\"Nhap toa do diem A (x1 y1): \").split())\n",
        "x2, y2 = map(float, input(\"Nhap toa do diem B (x2 y2): \").split())\n",
        "\n",
        "kc = math.sqrt((x2 - x1)**2 + (y2 - y1)**2)\n",
        "print(f\"Khoang cach giua A({x1},{y1}) va B({x2},{y2}) = {kc:.2f}\")"
      ],
      "metadata": {
        "colab": {
          "base_uri": "https://localhost:8080/"
        },
        "id": "YOhhj7FldbSC",
        "outputId": "e104add3-6c65-4aa5-8ff6-a306db5afce4"
      },
      "execution_count": 17,
      "outputs": [
        {
          "output_type": "stream",
          "name": "stdout",
          "text": [
            "Nhap toa do diem A (x1 y1): 2 1\n",
            "Nhap toa do diem B (x2 y2): -1 0\n",
            "Khoang cach giua A(2.0,1.0) va B(-1.0,0.0) = 3.16\n"
          ]
        }
      ]
    },
    {
      "cell_type": "markdown",
      "source": [
        "# BÀI TẬP THÊM"
      ],
      "metadata": {
        "id": "Z5GGDmPBeGkc"
      }
    },
    {
      "cell_type": "markdown",
      "source": [
        "##Bài 1. Tìm giá trị lớn nhất, nhỏ nhất của 5 số"
      ],
      "metadata": {
        "id": "E-Ta4KShnsBE"
      }
    },
    {
      "cell_type": "code",
      "source": [
        "a, b, c, d, e = map(int, input(\"Nhap 5 so a b c d e: \").split())\n",
        "print(\"Max =\", max(a, b, c, d, e))\n",
        "print(\"Min =\", min(a, b, c, d, e))"
      ],
      "metadata": {
        "colab": {
          "base_uri": "https://localhost:8080/"
        },
        "id": "MV2vF-b2olG-",
        "outputId": "fa407cd2-a18f-4362-9ec5-bd3d991c9652"
      },
      "execution_count": 21,
      "outputs": [
        {
          "output_type": "stream",
          "name": "stdout",
          "text": [
            "Nhap 5 so a b c d e: 1 5 6 2 8\n",
            "Max = 8\n",
            "Min = 1\n"
          ]
        }
      ]
    },
    {
      "cell_type": "markdown",
      "source": [
        "##Bài 2. Giải phương trình bậc 2"
      ],
      "metadata": {
        "id": "Sc6dq32SpFKU"
      }
    },
    {
      "cell_type": "code",
      "source": [
        "import math\n",
        "\n",
        "a = float(input(\"Nhap a: \"))\n",
        "b = float(input(\"Nhap b: \"))\n",
        "c = float(input(\"Nhap c: \"))\n",
        "\n",
        "if a == 0:\n",
        "    if b == 0:\n",
        "        if c == 0:\n",
        "            print(\"Unlimited solutions\")\n",
        "        else:\n",
        "            print(\"No solution\")\n",
        "    else:\n",
        "        x = -c / b\n",
        "        print(f\"x = {x:.2f}\")\n",
        "else:\n",
        "    delta = b*b - 4*a*c\n",
        "    if delta < 0:\n",
        "        print(\"No solution\")\n",
        "    elif delta == 0:\n",
        "        x = -b / (2*a)\n",
        "        print(f\"x1 = {x:.2f}\")\n",
        "    else:\n",
        "        x1 = (-b - math.sqrt(delta)) / (2*a)\n",
        "        x2 = (-b + math.sqrt(delta)) / (2*a)\n",
        "        print(f\"x1 = {x1:.2f}, x2 = {x2:.2f}\")"
      ],
      "metadata": {
        "id": "oMRP9KIxpXqh",
        "outputId": "74b15f56-b2ae-4b9c-9bdc-759a1563bb13",
        "colab": {
          "base_uri": "https://localhost:8080/"
        }
      },
      "execution_count": 22,
      "outputs": [
        {
          "output_type": "stream",
          "name": "stdout",
          "text": [
            "Nhap a: 1\n",
            "Nhap b: -5\n",
            "Nhap c: 6\n",
            "x1 = 2.00, x2 = 3.00\n"
          ]
        }
      ]
    },
    {
      "cell_type": "markdown",
      "source": [
        "##Bài 3. Tìm số ngày của tháng"
      ],
      "metadata": {
        "id": "l916YVGeqWKv"
      }
    },
    {
      "cell_type": "code",
      "source": [
        "month = int(input(\"Nhap thang: \"))\n",
        "year = int(input(\"Nhap nam: \"))\n",
        "\n",
        "if month == 2:\n",
        "    # kiểm tra năm nhuận\n",
        "    if (year % 400 == 0) or (year % 4 == 0 and year % 100 != 0):\n",
        "        days = 29\n",
        "    else:\n",
        "        days = 28\n",
        "elif month in [1,3,5,7,8,10,12]:\n",
        "    days = 31\n",
        "else:\n",
        "    days = 30\n",
        "\n",
        "print(f\"So ngay cua thang {month}/{year} la {days}\")"
      ],
      "metadata": {
        "id": "ACOkf6S6qbPU",
        "outputId": "6ebb63e7-960f-4700-b4d9-cc2c378ce428",
        "colab": {
          "base_uri": "https://localhost:8080/"
        }
      },
      "execution_count": 23,
      "outputs": [
        {
          "output_type": "stream",
          "name": "stdout",
          "text": [
            "Nhap thang: 1\n",
            "Nhap nam: 2025\n",
            "So ngay cua thang 1/2025 la 31\n"
          ]
        }
      ]
    },
    {
      "cell_type": "markdown",
      "source": [
        "##Bài 4. Chữ số lớn nhất của số 4 chữ số"
      ],
      "metadata": {
        "id": "-Hl5QX_NqkT2"
      }
    },
    {
      "cell_type": "code",
      "source": [
        "n = int(input(\"Nhap so nguyen n (4 chu so): \"))\n",
        "max_digit = max(map(int, str(n)))\n",
        "print(f\"Chu so lon nhat cua {n} la {max_digit}\")"
      ],
      "metadata": {
        "id": "14CeyTqzrEto",
        "outputId": "0353e826-8205-4245-b745-dadc01ad2b7c",
        "colab": {
          "base_uri": "https://localhost:8080/"
        }
      },
      "execution_count": 24,
      "outputs": [
        {
          "output_type": "stream",
          "name": "stdout",
          "text": [
            "Nhap so nguyen n (4 chu so): 2387\n",
            "Chu so lon nhat cua 2387 la 8\n"
          ]
        }
      ]
    },
    {
      "cell_type": "markdown",
      "source": [
        "##Bài 5. Điểm trung bình"
      ],
      "metadata": {
        "id": "LAHmsvFPrMcm"
      }
    },
    {
      "cell_type": "code",
      "source": [
        "math = float(input(\"Nhap diem Toan: \"))\n",
        "physics = float(input(\"Nhap diem Ly: \"))\n",
        "chemistry = float(input(\"Nhap diem Hoa: \"))\n",
        "\n",
        "DTB = (math*2 + physics*3 + chemistry) / 6\n",
        "\n",
        "if 8 <= DTB <= 10:\n",
        "    rank = \"Good\"\n",
        "elif 6.5 <= DTB < 8:\n",
        "    rank = \"Pretty\"\n",
        "elif 5 <= DTB < 6.5:\n",
        "    rank = \"Average\"\n",
        "else:\n",
        "    rank = \"Weak\"\n",
        "\n",
        "print(f\"Average point = {DTB:.2f}, rating {rank}.\")"
      ],
      "metadata": {
        "id": "Os4drd8BtpJr",
        "outputId": "31eb4efa-a8d9-47a3-9dbb-51c328a1630b",
        "colab": {
          "base_uri": "https://localhost:8080/"
        }
      },
      "execution_count": 27,
      "outputs": [
        {
          "output_type": "stream",
          "name": "stdout",
          "text": [
            "Nhap diem Toan: 7\n",
            "Nhap diem Ly: 6\n",
            "Nhap diem Hoa: 8\n",
            "Average point = 6.67, rating Pretty.\n"
          ]
        }
      ]
    },
    {
      "cell_type": "markdown",
      "source": [
        "##Bài 6. Tính tiền nước hộ giai đình"
      ],
      "metadata": {
        "id": "dp_MrcnYuNFZ"
      }
    },
    {
      "cell_type": "code",
      "source": [
        "people = int(input(\"Nhap so nguoi trong ho gia dinh: \"))\n",
        "m3 = int(input(\"Nhap so nuoc tieu thu (m3): \"))\n",
        "\n",
        "# Định mức cho hộ gia đình = 4m3 * số người\n",
        "limit = 4 * people\n",
        "cost = 0\n",
        "\n",
        "if m3 <= limit:\n",
        "    cost = m3 * 4400\n",
        "elif m3 <= 2*limit:\n",
        "    cost = limit*4400 + (m3-limit)*8300\n",
        "else:\n",
        "    cost = limit*4400 + limit*8300 + (m3-2*limit)*10500\n",
        "\n",
        "# Thuế VAT 10% + phí bảo vệ môi trường 5%\n",
        "total = cost * 1.15\n",
        "\n",
        "print(f\"Payment for {m3} m^3 in month is {total:,.0f} D.\")"
      ],
      "metadata": {
        "id": "Qo6DiYvkuRPr",
        "outputId": "b316de4b-ccf9-44e4-b35d-f93a7c840f4a",
        "colab": {
          "base_uri": "https://localhost:8080/"
        }
      },
      "execution_count": 28,
      "outputs": [
        {
          "output_type": "stream",
          "name": "stdout",
          "text": [
            "Nhap so nguoi trong ho gia dinh: 1\n",
            "Nhap so nuoc tieu thu (m3): 3\n",
            "Payment for 3 m^3 in month is 15,180 D.\n"
          ]
        }
      ]
    },
    {
      "cell_type": "markdown",
      "source": [
        "##Bài 7. Ngày sau"
      ],
      "metadata": {
        "id": "DVY-DpjruioR"
      }
    },
    {
      "cell_type": "code",
      "source": [
        "import datetime\n",
        "\n",
        "d = int(input(\"Nhap ngay: \"))\n",
        "m = int(input(\"Nhap thang: \"))\n",
        "y = int(input(\"Nhap nam: \"))\n",
        "\n",
        "date = datetime.date(y, m, d)\n",
        "next_day = date + datetime.timedelta(days=1)\n",
        "\n",
        "print(\"Ngay hom sau la:\", next_day.strftime(\"%d/%m/%Y\"))"
      ],
      "metadata": {
        "id": "KXDjQWMjumGP",
        "outputId": "1c86dbfe-f2be-4eca-a24b-bc85fa3ab6c2",
        "colab": {
          "base_uri": "https://localhost:8080/"
        }
      },
      "execution_count": 29,
      "outputs": [
        {
          "output_type": "stream",
          "name": "stdout",
          "text": [
            "Nhap ngay: 31\n",
            "Nhap thang: 1\n",
            "Nhap nam: 2015\n",
            "Ngay hom sau la: 01/02/2015\n"
          ]
        }
      ]
    },
    {
      "cell_type": "markdown",
      "source": [
        "##Bài 8. Tính chất số"
      ],
      "metadata": {
        "id": "Zq5L7vf1vMT_"
      }
    },
    {
      "cell_type": "code",
      "source": [
        "# Bài 8. Tính chất số (1)\n",
        "n = int(input(\"Nhap so tu nhien n (<1000): \"))\n",
        "\n",
        "# số chữ số\n",
        "digits = len(str(n))\n",
        "\n",
        "# tổng các chữ số\n",
        "digit_sum = sum(int(ch) for ch in str(n))\n",
        "\n",
        "# chữ số đầu và cuối\n",
        "first_digit = int(str(n)[0])\n",
        "last_digit = int(str(n)[-1])\n",
        "\n",
        "print(f\"{n} has {digits} digits.\")\n",
        "print(f\"{' + '.join(str(x) for x in str(n))} = {digit_sum}.\")\n",
        "print(f\"Last digit is {last_digit}.\")\n",
        "print(f\"First digit is {first_digit}.\")"
      ],
      "metadata": {
        "id": "HnhlI0DovSfN",
        "outputId": "c0f20f20-4abd-4c3e-dbda-f94a2080c182",
        "colab": {
          "base_uri": "https://localhost:8080/"
        }
      },
      "execution_count": 30,
      "outputs": [
        {
          "output_type": "stream",
          "name": "stdout",
          "text": [
            "Nhap so tu nhien n (<1000): 156\n",
            "156 has 3 digits.\n",
            "1 + 5 + 6 = 12.\n",
            "Last digit is 6.\n",
            "First digit is 1.\n"
          ]
        }
      ]
    }
  ]
}